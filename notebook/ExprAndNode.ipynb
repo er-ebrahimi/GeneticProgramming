{
 "cells": [
  {
   "cell_type": "code",
   "execution_count": 110,
   "metadata": {},
   "outputs": [],
   "source": [
    "import random\n",
    "import math\n",
    "import os\n",
    "import sys\n",
    "sys.path.insert(0, '/home/erfan/Documents/GitHub/GeneticProgramming/code')\n",
    "import Expr as e"
   ]
  },
  {
   "cell_type": "code",
   "execution_count": 111,
   "metadata": {},
   "outputs": [],
   "source": [
    "instancesNum = 10 #How maney instance you want to test function with it\n",
    "inputs = []\n",
    "answers = []\n",
    "#e.randlimitd"
   ]
  },
  {
   "cell_type": "markdown",
   "metadata": {},
   "source": [
    "Black Box"
   ]
  },
  {
   "cell_type": "code",
   "execution_count": 112,
   "metadata": {},
   "outputs": [
    {
     "name": "stdout",
     "output_type": "stream",
     "text": [
      "70\n",
      "inputs: [8, 3, 10, 6, 1, 5, 10, 7, 5, 2]\n",
      "answers: [518, 33, 1006, 222, 7, 131, 1006, 349, 131, 14]\n"
     ]
    }
   ],
   "source": [
    "def blackBox(inp):\n",
    "    return inp ** 3 + 2 + 4\n",
    "print(blackBox(4))\n",
    "for i in range(instancesNum):\n",
    "    rand = (random.randint(e.randlimit[0],e.randlimit[1]))\n",
    "    inputs.append(rand)\n",
    "    answers.append(blackBox(rand))\n",
    "print(f'inputs: {inputs}')\n",
    "print(f'answers: {answers}')\n",
    "    "
   ]
  },
  {
   "cell_type": "markdown",
   "metadata": {},
   "source": [
    "Generate tree"
   ]
  },
  {
   "cell_type": "code",
   "execution_count": 113,
   "metadata": {},
   "outputs": [
    {
     "name": "stdout",
     "output_type": "stream",
     "text": [
      "[<Expr.Expr object at 0x7f3ad53cfc40>, <Expr.Expr object at 0x7f3ad53cfeb0>, <Expr.Expr object at 0x7f3ad53cfca0>, <Expr.Expr object at 0x7f3ad51f50a0>, <Expr.Expr object at 0x7f3ad53570d0>]\n"
     ]
    }
   ],
   "source": [
    "treeNum = 5\n",
    "trees = [] \n",
    "for i in range(treeNum):\n",
    "    trees.append(e.Expr())\n",
    "    rand = random.randint(1, 3)\n",
    "    e.generateTree(rand, trees[i])#tree'll have hight of between one to 11\n",
    "print(trees)\n"
   ]
  },
  {
   "cell_type": "markdown",
   "metadata": {},
   "source": [
    "Print tree"
   ]
  },
  {
   "cell_type": "code",
   "execution_count": 114,
   "metadata": {},
   "outputs": [
    {
     "name": "stdout",
     "output_type": "stream",
     "text": [
      "sin(cos(cos((x / (5 + 10)))))\n",
      "(8 / (sin(cos(3)) + x))\n",
      "cos((cos(cos(10)) + x))\n",
      "((7 / x) + ((10 * 5) + 9))\n",
      "(x - cos(sin((3 / 2))))\n"
     ]
    }
   ],
   "source": [
    "for i in range(treeNum):\n",
    "    print(trees[i].printTree(trees[i].node))"
   ]
  },
  {
   "cell_type": "code",
   "execution_count": 115,
   "metadata": {},
   "outputs": [
    {
     "name": "stdout",
     "output_type": "stream",
     "text": [
      "0.960170286650366\n"
     ]
    }
   ],
   "source": [
    "print(math.cos(-6))"
   ]
  },
  {
   "cell_type": "code",
   "execution_count": 116,
   "metadata": {},
   "outputs": [
    {
     "name": "stdout",
     "output_type": "stream",
     "text": [
      "0.5143952585235492\n",
      "-9.56912775616329\n",
      "0.7849667209338518\n",
      "None\n",
      "-0.5424085045303605\n"
     ]
    }
   ],
   "source": [
    "\n",
    "for i in range(treeNum):\n",
    "    print(trees[i].calculator(0, trees[i].node))\n"
   ]
  },
  {
   "cell_type": "markdown",
   "metadata": {},
   "source": [
    "Fitness"
   ]
  },
  {
   "cell_type": "code",
   "execution_count": 117,
   "metadata": {},
   "outputs": [
    {
     "name": "stdout",
     "output_type": "stream",
     "text": [
      "249489.0493653707\n",
      "249320.25931499604\n",
      "250030.38663239\n",
      "212716.1671180555\n",
      "244423.19272203016\n"
     ]
    }
   ],
   "source": [
    "for j in trees:\n",
    "    fit = 0\n",
    "    count = 0\n",
    "    for i in range(len(inputs)):\n",
    "        funcAns = (j.calculator(inputs[i], j.node))\n",
    "        if funcAns != None:\n",
    "            fit += ((funcAns - answers[i]) ** 2)\n",
    "            count += 1\n",
    "        else:\n",
    "            if funcAns == answers[i]:\n",
    "                count += 1\n",
    "    if count != 0:\n",
    "        j.fitness = fit/count\n",
    "        print(j.fitness)\n",
    "    else:\n",
    "        trees.remove(j)\n",
    "        treeNum -= 1"
   ]
  },
  {
   "cell_type": "markdown",
   "metadata": {},
   "source": [
    "Possibility"
   ]
  },
  {
   "cell_type": "code",
   "execution_count": 118,
   "metadata": {},
   "outputs": [],
   "source": [
    "def possibilty(trees: list[e.Expr]): \n",
    "    \"\"\"Calculate possibility of choosing one tree\n",
    "\n",
    "    Args:\n",
    "        tree (e.Expr): your tree which you want calculate\n",
    "        inputs (List int): input to func\n",
    "    \"\"\"\n",
    "    num = 0\n",
    "    sumTree = 0\n",
    "    for i in trees:\n",
    "        sumTree += i.fitness\n",
    "    for i in trees:\n",
    "        i.possibility = round(i.fitness * 100/ sumTree)\n",
    "        num += i.possibility\n",
    "        i.num = num\n",
    "    trees[treeNum - 1].num = 100 \n"
   ]
  },
  {
   "cell_type": "code",
   "execution_count": 122,
   "metadata": {},
   "outputs": [
    {
     "name": "stdout",
     "output_type": "stream",
     "text": [
      "21\n",
      "42\n",
      "63\n",
      "81\n",
      "100\n"
     ]
    }
   ],
   "source": [
    "\n",
    "possibilty(trees)\n",
    "for i in trees:\n",
    "    print(i.num)"
   ]
  },
  {
   "cell_type": "markdown",
   "metadata": {},
   "source": [
    "Random Selection"
   ]
  },
  {
   "cell_type": "code",
   "execution_count": 131,
   "metadata": {},
   "outputs": [
    {
     "data": {
      "text/plain": [
       "'(8 / (sin(cos(3)) + x))'"
      ]
     },
     "execution_count": 131,
     "metadata": {},
     "output_type": "execute_result"
    }
   ],
   "source": [
    "def randomSelection(trees: list[e.Expr]):\n",
    "    rand = random.randint(1,100)\n",
    "    for i in range(len(trees)):\n",
    "        if i == 0 and trees[i].num >= rand:\n",
    "            return trees[i]\n",
    "        elif trees[i-1].num < rand and rand <= trees[i].num:\n",
    "            return trees[i]\n",
    "\n",
    "tr = randomSelection(trees)\n",
    "tr.printTree(tr.node)"
   ]
  }
 ],
 "metadata": {
  "kernelspec": {
   "display_name": "Python 3.9.13 ('base')",
   "language": "python",
   "name": "python3"
  },
  "language_info": {
   "codemirror_mode": {
    "name": "ipython",
    "version": 3
   },
   "file_extension": ".py",
   "mimetype": "text/x-python",
   "name": "python",
   "nbconvert_exporter": "python",
   "pygments_lexer": "ipython3",
   "version": "3.9.13"
  },
  "orig_nbformat": 4,
  "vscode": {
   "interpreter": {
    "hash": "a63e6f0e0f25cc04d6963e51efaea1e2196bd5a359aabb8d5158bc5d10354a0d"
   }
  }
 },
 "nbformat": 4,
 "nbformat_minor": 2
}

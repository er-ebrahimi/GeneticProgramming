{
 "cells": [
  {
   "cell_type": "code",
   "execution_count": 217,
   "metadata": {},
   "outputs": [],
   "source": [
    "import random\n",
    "import math"
   ]
  },
  {
   "cell_type": "code",
   "execution_count": 218,
   "metadata": {},
   "outputs": [],
   "source": [
    "oneChildOp = [\"sin\", \"cos\"]\n",
    "allOp = [\"+\", '-', '*', '/', 'sin', 'cos']\n",
    "randlimit = (1,10)\n",
    "variable = ['x']\n",
    "# print(math.cos(math.radians(60)))\n",
    "\n",
    "class Node:\n",
    "    \"\"\"this class has two children\n",
    "    vars:\n",
    "        right: Node\n",
    "        left: Node\n",
    "        data: char or int\n",
    "    \"\"\"\n",
    "    def __init__(self):\n",
    "        self._right = None\n",
    "        self._left = None\n",
    "        self.data = allOp[random.randint(0, len(allOp) - 1)]\n",
    "        self._child = None\n",
    "    def printing(self):\n",
    "        print(self.data)\n",
    "    def getChild(self, which):\n",
    "        \"\"\"return the child\n",
    "\n",
    "        Args:\n",
    "            which (int): which can be 1 or 2 it is bigger than two it works like one\n",
    "\n",
    "        Returns:\n",
    "            Node: if input is one func is returned _right\n",
    "                    if it is two return _left\n",
    "                    if data can have one child then the return is _child\n",
    "        \"\"\"\n",
    "        if self.data in oneChildOp:\n",
    "            return self._child\n",
    "        elif which == 2:\n",
    "            return self._left\n",
    "        else:\n",
    "            return self._right\n",
    "    def setChild(self, which, input):\n",
    "        \"\"\"set to value to childs\n",
    "\n",
    "        Args:\n",
    "            which (int): which can be 1 or 2 it is bigger than two it works like one\n",
    "            input (Node or int or char): your Node or number or variable\n",
    "        \"\"\"\n",
    "        if self.data in oneChildOp:#TODO\n",
    "            self._child = input\n",
    "        elif which == 2:\n",
    "            self._left = input\n",
    "        else:\n",
    "            self._right = input"
   ]
  },
  {
   "cell_type": "code",
   "execution_count": 219,
   "metadata": {},
   "outputs": [],
   "source": [
    "class Expr:\n",
    "    def __init__(self):\n",
    "        self.node = Node()\n",
    "        self.numCount = 0 #save how many number we should generate\n",
    "        self.opCount = 1\n",
    "    def calculator(self, x, head):#TODO if you wanna add more the one var you should change this function\n",
    "        \"\"\"calculate the answer of tree\n",
    "\n",
    "        Args:\n",
    "            x (int): your input to function\n",
    "            head (Node): your head\n",
    "\n",
    "        Returns:\n",
    "            int: answer of function\n",
    "        \"\"\"\n",
    "        if type(head) == int:\n",
    "            return head\n",
    "        elif type(head) != Node:\n",
    "            return x\n",
    "        elif head.data in allOp:\n",
    "            if head.data in oneChildOp:\n",
    "                value = self.calculator(x, head.getChild(1))#TODO if you wanna add more oneChild operator you should change this condition\n",
    "                if head.data == \"sin\":\n",
    "                    return math.sin(value)\n",
    "                if head.data == \"cos\":\n",
    "                    return math.cos(value)\n",
    "            else:\n",
    "                value1 = self.calculator(x, head.getChild(1))\n",
    "                value2 = self.calculator(x, head.getChild(2))\n",
    "                if value2 == 0:\n",
    "                    head.getChild(2).data = random.randint(randlimit[0],randlimit[1]) \n",
    "                return eval(f'{value1} {head.data} {value2}')#TODO divide by zero\n",
    "    def printTree(self, node):\n",
    "        if type(node) != Node:\n",
    "            return node\n",
    "        elif node.data in oneChildOp:\n",
    "            return f'{node.data}({self.printTree(node.getChild(1))})'\n",
    "        elif node.data in allOp:\n",
    "            return f'({self.printTree(node.getChild(1))} {node.data} {self.printTree(node.getChild(2))})'\n",
    "        # while True:\n",
    "    def insertNum(self,headNode ,var ):\n",
    "        \"\"\"It is for inserting Node \n",
    "            = [random.randint(1 , self.numCount - self.opCount )]\n",
    "        Args:\n",
    "            headNode (Node): root Node\n",
    "            tree (Expr): your tree\n",
    "            var (List): it just use firt value of list (just passby value) \n",
    "        \"\"\"\n",
    "        rand = 0\n",
    "        if rand == 0:\n",
    "            rand = random.randint(1,2)\n",
    "        if type(headNode.getChild(rand)) == Node:\n",
    "            self.insertNum(headNode.getChild(rand), var)\n",
    "        elif headNode.getChild(rand) == None and var[0] == 0:\n",
    "            headNode.setChild(rand,random.randint(randlimit[0],randlimit[1]))\n",
    "        elif headNode.getChild(rand) == None:\n",
    "            headNode.setChild(rand,variable[random.randint(0,len(variable) - 1)])\n",
    "            var[0] -= 1\n",
    "            \n",
    "        rand = 2 if rand == 1 else 1 \n",
    "        if type(headNode.getChild(rand)) == Node:\n",
    "            self.insertNum(headNode.getChild(rand), var)\n",
    "        elif headNode.getChild(rand) == None and var[0] == 0:\n",
    "            headNode.setChild(rand,random.randint(randlimit[0],randlimit[1]))\n",
    "        elif headNode.getChild(rand) == None:\n",
    "            headNode.setChild(rand,variable[random.randint(0,len(variable) - 1)])\n",
    "            var[0] -= 1"
   ]
  },
  {
   "cell_type": "code",
   "execution_count": 220,
   "metadata": {},
   "outputs": [],
   "source": [
    "# def insertNode(headNode ,inputNode):\n",
    "#     \"\"\"inserting new node\n",
    "\n",
    "#     Args:\n",
    "#         headNode (Node): the head of your tree (+,-,*,/)\n",
    "#         inputNode (char): your operator you want to add\n",
    "#     \"\"\"\n",
    "#     inputNode = Node(inputNode)\n",
    "#     # flag = False\n",
    "#     ran = random.randint(1, 2)\n",
    "\n",
    "#     if headNode.getChild(ran) == None:\n",
    "#         headNode.setChild(ran, inputNode)\n",
    "#     elif type(headNode.getChild(ran)) == Node:\n",
    "#         insertNode(headNode.getChild(ran), inputNode.data)"
   ]
  },
  {
   "cell_type": "code",
   "execution_count": 221,
   "metadata": {},
   "outputs": [],
   "source": [
    "\n",
    "def insertNode(headNode ):\n",
    "    \"\"\"inserting new node\n",
    "\n",
    "    Args:\n",
    "        headNode (Node): the head of your tree (+,-,*,/)\n",
    "        inputNode (char): your operator you want to add\n",
    "    \"\"\"\n",
    "    inputNode = Node()\n",
    "    # flag = False\n",
    "    ran = random.randint(1, 2)\n",
    "\n",
    "    if headNode.getChild(ran) == None:\n",
    "        headNode.setChild(ran, inputNode)\n",
    "    elif type(headNode.getChild(ran)) == Node:\n",
    "        insertNode(headNode.getChild(ran))"
   ]
  },
  {
   "cell_type": "code",
   "execution_count": 222,
   "metadata": {},
   "outputs": [],
   "source": [
    "def generateTree(count, tree):\n",
    "    \"\"\"Generate new cromosome\n",
    "\n",
    "    Args:\n",
    "        count (int): tree will have count+1 operator\n",
    "        tree (Expr): your tree\n",
    "    \"\"\"\n",
    "    tree.opCount = count + 1\n",
    "    for i in range(count + 1):\n",
    "        ran = random.randint(0, len(allOp) - 1)\n",
    "        if allOp[ran] in oneChildOp:\n",
    "            tree.numCount += 1\n",
    "        else:\n",
    "            tree.numCount += 2\n",
    "        insertNode(tree.node )\n",
    "    tree.insertNum(tree.node, [2])#TODO it always in right\n"
   ]
  },
  {
   "cell_type": "code",
   "execution_count": 233,
   "metadata": {},
   "outputs": [],
   "source": [
    "treeNum = 5\n",
    "trees = [] \n",
    "for i in range(treeNum):\n",
    "    trees.append(Expr())\n",
    "    rand = random.randint(1, 3)\n",
    "    generateTree(rand, trees[i])#tree'll have hight of between one to 11\n"
   ]
  },
  {
   "cell_type": "code",
   "execution_count": 236,
   "metadata": {},
   "outputs": [
    {
     "name": "stdout",
     "output_type": "stream",
     "text": [
      "sin(((sin((2 * 10)) * x) + x))\n",
      "(((6 + x) * x) - cos(sin(5)))\n",
      "cos(((x * 8) - sin(x)))\n",
      "(3 - cos((x / x)))\n",
      "(5 * ((4 * (x * x)) / 4))\n"
     ]
    }
   ],
   "source": [
    "for i in range(treeNum):\n",
    "    print(trees[i].printTree(trees[i].node))"
   ]
  },
  {
   "cell_type": "code",
   "execution_count": 239,
   "metadata": {},
   "outputs": [
    {
     "name": "stdout",
     "output_type": "stream",
     "text": [
      "0.9796270071722885\n",
      "39.42559912080607\n",
      "0.2278999872111569\n",
      "2.4596976941318602\n",
      "80.0\n"
     ]
    }
   ],
   "source": [
    "\n",
    "\n",
    "for i in range(treeNum):\n",
    "    print(trees[i].calculator(4, trees[i].node))\n"
   ]
  },
  {
   "cell_type": "code",
   "execution_count": 240,
   "metadata": {},
   "outputs": [
    {
     "name": "stdout",
     "output_type": "stream",
     "text": [
      "70\n"
     ]
    }
   ],
   "source": [
    "def blackBox(inp):\n",
    "    return inp ** 3 + 2 + 4\n",
    "print(blackBox(4))"
   ]
  },
  {
   "cell_type": "code",
   "execution_count": null,
   "metadata": {},
   "outputs": [],
   "source": []
  }
 ],
 "metadata": {
  "kernelspec": {
   "display_name": "Python 3.9.13 ('base')",
   "language": "python",
   "name": "python3"
  },
  "language_info": {
   "codemirror_mode": {
    "name": "ipython",
    "version": 3
   },
   "file_extension": ".py",
   "mimetype": "text/x-python",
   "name": "python",
   "nbconvert_exporter": "python",
   "pygments_lexer": "ipython3",
   "version": "3.9.13"
  },
  "orig_nbformat": 4,
  "vscode": {
   "interpreter": {
    "hash": "a63e6f0e0f25cc04d6963e51efaea1e2196bd5a359aabb8d5158bc5d10354a0d"
   }
  }
 },
 "nbformat": 4,
 "nbformat_minor": 2
}

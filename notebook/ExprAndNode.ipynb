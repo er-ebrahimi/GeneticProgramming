{
 "cells": [
  {
   "cell_type": "code",
   "execution_count": 10,
   "metadata": {},
   "outputs": [],
   "source": [
    "import random\n",
    "import math\n",
    "import os\n",
    "import sys\n",
    "sys.path.insert(0, '/home/erfan/Documents/GitHub/GeneticProgramming/code')\n",
    "import Expr as e"
   ]
  },
  {
   "cell_type": "code",
   "execution_count": null,
   "metadata": {},
   "outputs": [],
   "source": [
    "instancesNum = 10 #How maney instance you want to test function with it\n",
    "inputs = []\n",
    "#e.randlimitd"
   ]
  },
  {
   "cell_type": "markdown",
   "metadata": {},
   "source": [
    "Black Box"
   ]
  },
  {
   "cell_type": "code",
   "execution_count": 5,
   "metadata": {},
   "outputs": [
    {
     "name": "stdout",
     "output_type": "stream",
     "text": [
      "70\n"
     ]
    }
   ],
   "source": [
    "def blackBox(inp):\n",
    "    return inp ** 3 + 2 + 4\n",
    "print(blackBox(4))\n",
    "for i in range(instancesNum):\n",
    "    random.randint()"
   ]
  },
  {
   "cell_type": "markdown",
   "metadata": {},
   "source": [
    "Generate tree"
   ]
  },
  {
   "cell_type": "code",
   "execution_count": 6,
   "metadata": {},
   "outputs": [],
   "source": [
    "treeNum = 5\n",
    "trees = [] \n",
    "for i in range(treeNum):\n",
    "    trees.append(e.Expr())\n",
    "    rand = random.randint(1, 3)\n",
    "    e.generateTree(rand, trees[i])#tree'll have hight of between one to 11\n"
   ]
  },
  {
   "cell_type": "code",
   "execution_count": 7,
   "metadata": {},
   "outputs": [
    {
     "name": "stdout",
     "output_type": "stream",
     "text": [
      "(x - (sin(x) - 1))\n",
      "(sin((x - 2)) - sin(x))\n",
      "((x / x) / cos(sin((4 / 8))))\n",
      "cos(cos(cos(cos(x))))\n",
      "sin(((x / 6) / x))\n"
     ]
    }
   ],
   "source": [
    "for i in range(treeNum):\n",
    "    print(trees[i].printTree(trees[i].node))"
   ]
  },
  {
   "cell_type": "code",
   "execution_count": 8,
   "metadata": {},
   "outputs": [
    {
     "name": "stdout",
     "output_type": "stream",
     "text": [
      "5.756802495307928\n",
      "1.66609992213361\n",
      "1.1270652828234053\n",
      "0.7641404871774221\n",
      "0.16589613269341502\n"
     ]
    }
   ],
   "source": [
    "for i in range(treeNum):\n",
    "    print(trees[i].calculator(4, trees[i].node))\n"
   ]
  },
  {
   "cell_type": "markdown",
   "metadata": {},
   "source": [
    "Fitness"
   ]
  },
  {
   "cell_type": "code",
   "execution_count": null,
   "metadata": {},
   "outputs": [],
   "source": [
    "correct = 0\n",
    "for j in range(len(treeNum)):\n",
    "    for i in range(len(inputs)):\n",
    "        funcAns = (j.calculator(inputs[i], j.node))\n",
    "        if inputs[i] == funcAns:\n",
    "            j[i].correctAns += 1"
   ]
  },
  {
   "cell_type": "code",
   "execution_count": 12,
   "metadata": {},
   "outputs": [],
   "source": [
    "def fitness(tree: e.Expr, inputs: list[int]): \n",
    "    \"\"\"Calculate fitness\n",
    "\n",
    "    Args:\n",
    "        tree (e.Expr): your tree which you want calculate\n",
    "        inputs (List int): input to func\n",
    "    \"\"\"\n",
    "    \n",
    "\n"
   ]
  }
 ],
 "metadata": {
  "kernelspec": {
   "display_name": "Python 3.9.13 ('base')",
   "language": "python",
   "name": "python3"
  },
  "language_info": {
   "codemirror_mode": {
    "name": "ipython",
    "version": 3
   },
   "file_extension": ".py",
   "mimetype": "text/x-python",
   "name": "python",
   "nbconvert_exporter": "python",
   "pygments_lexer": "ipython3",
   "version": "3.9.13"
  },
  "orig_nbformat": 4,
  "vscode": {
   "interpreter": {
    "hash": "a63e6f0e0f25cc04d6963e51efaea1e2196bd5a359aabb8d5158bc5d10354a0d"
   }
  }
 },
 "nbformat": 4,
 "nbformat_minor": 2
}

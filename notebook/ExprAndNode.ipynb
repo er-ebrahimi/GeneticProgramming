{
 "cells": [
  {
   "cell_type": "code",
   "execution_count": 351,
   "metadata": {},
   "outputs": [],
   "source": [
    "import random\n",
    "import math\n",
    "import os\n",
    "import sys\n",
    "from datetime import datetime\n",
    "import numpy as np\n",
    "# sys.path.insert(0, '/home/erfan/Documents/GitHub/GeneticProgramming/code')\n",
    "# import Expr as e"
   ]
  },
  {
   "cell_type": "code",
   "execution_count": 352,
   "metadata": {},
   "outputs": [],
   "source": [
    "oneChildOp = [\"sin\", \"cos\"]\n",
    "allOp = [\"+\", '-', '*', '/', 'sin', 'cos']\n",
    "randlimit = (1,10) #generating random num between (1,10) #changeOrder\n",
    "variable = ['x']"
   ]
  },
  {
   "cell_type": "markdown",
   "metadata": {},
   "source": [
    "Node Class"
   ]
  },
  {
   "cell_type": "code",
   "execution_count": 353,
   "metadata": {},
   "outputs": [],
   "source": [
    "class Node:\n",
    "    \"\"\"this class has two children\n",
    "    vars:\n",
    "        right: Node\n",
    "        left: Node\n",
    "        data: char or int\n",
    "    \"\"\"\n",
    "    def __init__(self):\n",
    "        self._right = None\n",
    "        self._left = None\n",
    "        self.data = allOp[random.randint(0, len(allOp) - 1)]\n",
    "        self._child = None\n",
    "        self.nodeNum = 1\n",
    "    def printing(self):\n",
    "        print(self.data)\n",
    "    def getChild(self, which):\n",
    "        \"\"\"return the child\n",
    "\n",
    "        Args:\n",
    "            which (int): which can be 1 or 2 it is bigger than two it works like one\n",
    "\n",
    "        Returns:\n",
    "            Node: if input is one func is returned _right\n",
    "                    if it is two return _left\n",
    "                    if data can have one child then the return is _child\n",
    "        \"\"\"\n",
    "        if self.data in oneChildOp:\n",
    "            return self._child\n",
    "        elif which == 2:\n",
    "            return self._left\n",
    "        else:\n",
    "            return self._right\n",
    "    def setChild(self, which, input):\n",
    "        \"\"\"set to value to childs\n",
    "\n",
    "        Args:\n",
    "            which (int): which can be 1 or 2 it is bigger than two it works like one\n",
    "            input (Node or int or char): your Node or number or variable\n",
    "        \"\"\"\n",
    "        if self.data in oneChildOp:#TODO\n",
    "            self._child = input\n",
    "        elif which == 2:\n",
    "            self._left = input\n",
    "        else:\n",
    "            self._right = input"
   ]
  },
  {
   "cell_type": "code",
   "execution_count": 354,
   "metadata": {},
   "outputs": [],
   "source": [
    "def cal(var1, op, var2):\n",
    "    if op == '-':\n",
    "        return var1 - var2\n",
    "    if op == '*':\n",
    "        return var1 * var2\n",
    "    if op == '+':\n",
    "        return var1 + var2\n",
    "    if op == '/':\n",
    "        return var1 / var2"
   ]
  },
  {
   "cell_type": "markdown",
   "metadata": {},
   "source": [
    "Expr Class"
   ]
  },
  {
   "cell_type": "code",
   "execution_count": 355,
   "metadata": {},
   "outputs": [],
   "source": [
    "class Expr:\n",
    "    def __init__(self):\n",
    "        self.node = Node()\n",
    "        self.numCount = 0 #save how many number we should generate\n",
    "        self.opCount = 1\n",
    "        self.fitness = 0\n",
    "        self.possibility = 0\n",
    "        self.num = 0\n",
    "    def calculator(self, x, head):#TODO if you wanna add more the one var you should change this function\n",
    "        \"\"\"calculate the answer of tree\n",
    "\n",
    "        Args:\n",
    "            x (int): your input to function\n",
    "            head (Node): your head\n",
    "\n",
    "        Returns:\n",
    "            int or None: answer of function (division by zero return None)\n",
    "        \"\"\"\n",
    "        try:    \n",
    "            if type(head) == int:\n",
    "                return head\n",
    "            elif head == None:\n",
    "                return None\n",
    "            elif head == 'x':\n",
    "                return x\n",
    "            elif head.data in allOp:\n",
    "                if head.data in oneChildOp:\n",
    "                    value = self.calculator(x, head.getChild(1))#TODO if you wanna add more oneChild operator you should change this condition\n",
    "\n",
    "                    if head.data == \"sin\":\n",
    "                        return math.sin(value)\n",
    "                    elif head.data == \"cos\":\n",
    "                        return math.cos(value)\n",
    "                else:\n",
    "                    value1 = self.calculator(x, head.getChild(1))\n",
    "                    value2 = self.calculator(x, head.getChild(2)) \n",
    "                    return cal(value1,head.data,value2)\n",
    "        except (ZeroDivisionError, TypeError, AttributeError):\n",
    "            return None\n",
    "\n",
    "    def printTree(self, node):\n",
    "        \"\"\"return expresion of tree\n",
    "\n",
    "        Args:\n",
    "            node (Node): head node \n",
    "\n",
    "        Returns:\n",
    "            Node : return expression of tree\n",
    "        \"\"\"\n",
    "        if type(node) != Node:\n",
    "            return node\n",
    "        elif node.data in oneChildOp:\n",
    "            return f'{node.data}({self.printTree(node.getChild(1))})'\n",
    "        elif node.data in allOp:\n",
    "            return f'({self.printTree(node.getChild(1))} {node.data} {self.printTree(node.getChild(2))})'\n",
    "        # while True:\n",
    "    def insertNum(self,headNode ,var):\n",
    "        \"\"\"It is for inserting Node \n",
    "            = [random.randint(1 , self.numCount - self.opCount )]\n",
    "        Args:\n",
    "            headNode (Node): root Node\n",
    "            tree (Expr): your tree\n",
    "            var (List): it just use firt value of list (just passby value) \n",
    "        \"\"\"\n",
    "        rand = 0\n",
    "        if rand == 0:\n",
    "            rand = random.randint(1,2)\n",
    "        if type(headNode.getChild(rand)) == Node:\n",
    "            headNode.nodeNum += self.insertNum(headNode.getChild(rand), var)\n",
    "        elif headNode.getChild(rand) == None and var[0] == 0:\n",
    "            headNode.setChild(rand,random.randint(randlimit[0],randlimit[1]))\n",
    "            self.numCount += 1\n",
    "            headNode.nodeNum +=1\n",
    "        elif headNode.getChild(rand) == None:\n",
    "            headNode.setChild(rand,variable[random.randint(0,len(variable) - 1)])\n",
    "            var[0] -= 1\n",
    "            self.numCount += 1\n",
    "            headNode.nodeNum +=1\n",
    "        if headNode.data in oneChildOp:\n",
    "            return headNode.nodeNum           \n",
    "        rand = 2 if rand == 1 else 1 \n",
    "        if type(headNode.getChild(rand)) == Node:\n",
    "            headNode.nodeNum += self.insertNum(headNode.getChild(rand), var)\n",
    "        elif headNode.getChild(rand) == None and var[0] == 0:\n",
    "            headNode.setChild(rand,random.randint(randlimit[0],randlimit[1]))\n",
    "            self.numCount += 1\n",
    "            headNode.nodeNum +=1\n",
    "        elif headNode.getChild(rand) == None:\n",
    "            headNode.setChild(rand,variable[random.randint(0,len(variable) - 1)])\n",
    "            var[0] -= 1\n",
    "            self.numCount += 1\n",
    "            headNode.nodeNum +=1\n",
    "        return headNode.nodeNum "
   ]
  },
  {
   "cell_type": "code",
   "execution_count": 356,
   "metadata": {},
   "outputs": [],
   "source": [
    "def insertNode(headNode):\n",
    "    \"\"\"inserting new node\n",
    "\n",
    "    Args:\n",
    "        headNode (Node): the head of your tree (+,-,*,/)\n",
    "        inputNode (char): your operator you want to add\n",
    "    \"\"\"\n",
    "    inputNode = Node()\n",
    "    # flag = False\n",
    "    ran = random.randint(1, 2)\n",
    "\n",
    "    if headNode.getChild(ran) == None:\n",
    "        headNode.setChild(ran, inputNode)\n",
    "    elif type(headNode.getChild(ran)) == Node:\n",
    "        insertNode(headNode.getChild(ran))"
   ]
  },
  {
   "cell_type": "code",
   "execution_count": 357,
   "metadata": {},
   "outputs": [],
   "source": [
    "def generateTree(count, tree):\n",
    "    \"\"\"Generate new cromosome\n",
    "\n",
    "    Args:\n",
    "        count (int): tree will have count+1 operator\n",
    "        tree (Expr): your tree\n",
    "    \"\"\"\n",
    "    tree.opCount = count + 1\n",
    "    for i in range(count):\n",
    "        inputNode = Node()\n",
    "        insertNode(tree.node)\n",
    "    tree.insertNum(tree.node, [1])#TODO it always in right"
   ]
  },
  {
   "cell_type": "code",
   "execution_count": 358,
   "metadata": {},
   "outputs": [],
   "source": [
    "instancesNum = 20 #How maney instance you want to test function with it #changeOrder\n",
    "inputs = []\n",
    "answers = []\n",
    "#e.randlimitd"
   ]
  },
  {
   "cell_type": "markdown",
   "metadata": {},
   "source": [
    "Black Box"
   ]
  },
  {
   "cell_type": "code",
   "execution_count": 359,
   "metadata": {},
   "outputs": [
    {
     "name": "stdout",
     "output_type": "stream",
     "text": [
      "18\n",
      "inputs: [3, 4, 3, 2, 4, 10, 7, 8, 10, 1, 3, 6, 9, 10, 3, 1, 2, 2, 6, 3]\n",
      "answers: [15, 18, 15, 12, 18, 36, 27, 30, 36, 9, 15, 24, 33, 36, 15, 9, 12, 12, 24, 15]\n"
     ]
    }
   ],
   "source": [
    "def blackBox(inp):\n",
    "    return inp * 3 + 2 + 4\n",
    "print(blackBox(4))\n",
    "for i in range(instancesNum):\n",
    "    rand = (random.randint(randlimit[0],randlimit[1]))\n",
    "    inputs.append(rand)\n",
    "    answers.append(blackBox(rand))\n",
    "print(f'inputs: {inputs}')\n",
    "print(f'answers: {answers}')\n",
    "    "
   ]
  },
  {
   "cell_type": "markdown",
   "metadata": {},
   "source": [
    "Generate tree"
   ]
  },
  {
   "cell_type": "code",
   "execution_count": 360,
   "metadata": {},
   "outputs": [],
   "source": [
    "treeNum = 10 #changeOrder\n",
    "trees = [] \n",
    "for i in range(treeNum):\n",
    "    trees.append(Expr())\n",
    "    rand = random.randint(1, 3)\n",
    "    generateTree(rand, trees[i])#tree'll have hight of between one to 11\n"
   ]
  },
  {
   "cell_type": "markdown",
   "metadata": {},
   "source": [
    "Print tree"
   ]
  },
  {
   "cell_type": "code",
   "execution_count": 361,
   "metadata": {},
   "outputs": [
    {
     "name": "stdout",
     "output_type": "stream",
     "text": [
      "sin((cos(sin(9)) / x))\n",
      "cos(cos(x))\n",
      "((5 - 8) * (x * 2))\n",
      "(cos(x) * 5)\n",
      "sin(cos((x * 7)))\n",
      "(sin(cos(1)) / (6 - x))\n",
      "cos(((cos(7) * 1) / x))\n",
      "(((3 + 3) / x) * sin(10))\n",
      "(cos(x) + (1 - sin(8)))\n",
      "(sin((9 - x)) / 10)\n"
     ]
    }
   ],
   "source": [
    "for i in range(len(trees)):\n",
    "    print(trees[i].printTree(trees[i].node))\n",
    "\n",
    "# for i in range(len(trees)):\n",
    "#     print(trees[i].node.nodeNum, trees[i].opCount, trees[i].numCount)\n",
    "# print(trees[0].node._left.nodeNum)\n",
    "# print(trees[0].node._left.data)\n",
    "# print(trees[0].node.nodeNum)\n",
    "# for i in trees:\n",
    "#     print(i.node.nodeNum)"
   ]
  },
  {
   "cell_type": "code",
   "execution_count": 362,
   "metadata": {},
   "outputs": [],
   "source": [
    "\n",
    "# for i in range(len(trees)):\n",
    "#     print(trees[i].calculator(0, trees[i].node))\n"
   ]
  },
  {
   "cell_type": "markdown",
   "metadata": {},
   "source": [
    "Fitness"
   ]
  },
  {
   "cell_type": "code",
   "execution_count": 363,
   "metadata": {},
   "outputs": [],
   "source": [
    "def fitness(tree, trees):\n",
    "    fit = 0\n",
    "    count = 0\n",
    "    for i in range(len(inputs)):\n",
    "        funcAns = (tree.calculator(inputs[i], tree.node))\n",
    "        if funcAns != None:\n",
    "            fit += ((funcAns - answers[i]) ** 2)\n",
    "            count += 1\n",
    "        else:\n",
    "            if funcAns == answers[i]:\n",
    "                count += 1\n",
    "    if count != 0:\n",
    "        tree.fitness = fit/count\n",
    "        # print(tree.fitness)\n",
    "    else:\n",
    "        tree.fitness = np.finfo(np. float64). eps\n",
    "for tree in trees:\n",
    "    fitness(tree, trees)"
   ]
  },
  {
   "cell_type": "markdown",
   "metadata": {},
   "source": [
    "Possibility"
   ]
  },
  {
   "cell_type": "code",
   "execution_count": 364,
   "metadata": {},
   "outputs": [],
   "source": [
    "\n",
    "# possibilty(trees)\n",
    "# for i in trees:\n",
    "#     print(f'{i.num} , {i.possibility}')"
   ]
  },
  {
   "cell_type": "markdown",
   "metadata": {},
   "source": [
    "Random Selection"
   ]
  },
  {
   "cell_type": "code",
   "execution_count": 365,
   "metadata": {},
   "outputs": [],
   "source": [
    "selectionFitness = []\n",
    "def possibilty(trees: list[Expr]): \n",
    "    \"\"\"Calculate possibility of choosing one tree\n",
    "\n",
    "    Args:\n",
    "        tree (Expr): your tree which you want calculate\n",
    "        inputs (List int): input to func\n",
    "    \"\"\"\n",
    "    # num = 0\n",
    "    # sumTree = 0\n",
    "    # for i in trees:\n",
    "    #     sumTree += i.fitness\n",
    "    # sumTreeOp = 0\n",
    "    # for i in trees:\n",
    "    #     sumTreeOp += sumTree - i.fitness\n",
    "    #     i.fitness = sumTree - i.fitness\n",
    "    # for i in trees:\n",
    "    #     i.possibility = round(i.fitness * 100/ sumTreeOp)\n",
    "    #     num += i.possibility\n",
    "    #     i.num = num\n",
    "    # i.possibility = 100 - trees[len(trees) - 2].num    \n",
    "    # trees[len(trees) - 1].num = 100 \n",
    "    selectionFitness.clear()\n",
    "    for tree in trees:\n",
    "        if tree.fitness != 0:\n",
    "            tree.fitness = 1/(tree.fitness + 1)\n",
    "        else:\n",
    "            # tree.fitness = 1\n",
    "            return True#TODO with fitness of zero genetic function should stop\n",
    "    sumTree  = sum([tree.fitness for tree in trees])\n",
    "    for c in trees: selectionFitness.append(c.fitness/sumTree)\n",
    "    return False\n",
    "\n",
    "    \n",
    "def randomSelection(trees: list[Expr]):\n",
    "    # rand = random.randint(1,100)\n",
    "    # for i in range(len(trees)):\n",
    "    #     if i == 0 and trees[i].num >= rand:\n",
    "    #         # print(f'rand: {trees[i].printTree(trees[i].node)}')\n",
    "    #         return trees[i]\n",
    "    #     elif trees[i-1].num < rand and rand <= trees[i].num:\n",
    "    #         # print(f'rand: {trees[i].printTree(trees[i].node)}')\n",
    "    #         return trees[i]\n",
    "    return trees[ np.random.choice(len(trees), p= selectionFitness)]\n",
    "\n",
    "# tr = randomSelection(trees)\n",
    "# tr.printTree(tr.node)"
   ]
  },
  {
   "cell_type": "markdown",
   "metadata": {},
   "source": [
    "copy Node"
   ]
  },
  {
   "cell_type": "code",
   "execution_count": 366,
   "metadata": {},
   "outputs": [],
   "source": [
    "def copyNode(node):\n",
    "    newNode = Node()\n",
    "    if type(node) != Node:\n",
    "        return node\n",
    "    elif node.data in oneChildOp:\n",
    "        newNode._child = copyNode(node.getChild(1))\n",
    "        newNode.data = node.data\n",
    "        newNode.nodeNum = node.nodeNum\n",
    "        return newNode\n",
    "    elif node.data in allOp:\n",
    "        newNode._right = copyNode(node.getChild(1))\n",
    "        newNode._left = copyNode(node.getChild(2))\n",
    "        newNode.data = node.data\n",
    "        newNode.nodeNum = node.nodeNum\n",
    "        return newNode"
   ]
  },
  {
   "cell_type": "markdown",
   "metadata": {},
   "source": [
    "Crossover"
   ]
  },
  {
   "cell_type": "code",
   "execution_count": 367,
   "metadata": {},
   "outputs": [],
   "source": [
    "\n",
    "def findNode(node, rand: int, count = [0]):\n",
    "    \"\"\"finding a node and returning that \n",
    "\n",
    "    Args:\n",
    "        node (Node): head node of tree\n",
    "        rand (int): this arg should between 2 and size of tree\n",
    "        count (list, optional): initialize it with [0].Defualt doesn't work properly\n",
    "\n",
    "    Returns:\n",
    "        Node: your node\n",
    "    \"\"\"\n",
    "    if type(node) == Node:\n",
    "        if count[0] == rand:\n",
    "            return node\n",
    "        if node.data in oneChildOp:\n",
    "            count[0]+=1\n",
    "            temp = findNode(node.getChild(1), rand, count)\n",
    "            if count[0] == rand:\n",
    "                return temp\n",
    "        else:\n",
    "            count[0] +=1\n",
    "            temp = findNode(node.getChild(1), rand , count)\n",
    "            if count[0] == rand:\n",
    "                return temp\n",
    "            count[0] += 1\n",
    "            temp = findNode(node.getChild(2), rand , count)\n",
    "            if count[0] == rand:\n",
    "                return temp\n",
    "    else:\n",
    "        if count[0] == rand:\n",
    "            return node\n"
   ]
  },
  {
   "cell_type": "code",
   "execution_count": 368,
   "metadata": {},
   "outputs": [],
   "source": [
    "def setFoundNode(node: Node,set: Node, rand:int, count = [0]):\n",
    "    changedNodeSize = 0\n",
    "    if type(node) == Node:\n",
    "        if count[0] == rand - 1:\n",
    "            count[0] += 1\n",
    "            child = node.getChild(1)\n",
    "            node.setChild(1,set)\n",
    "            if type(child) == Node:\n",
    "                changedNodeSize = child.nodeNum\n",
    "            else:\n",
    "                changedNodeSize = 1\n",
    "            if type(set) == Node:\n",
    "                node.nodeNum += set.nodeNum - changedNodeSize\n",
    "            else:\n",
    "                node.nodeNum += 1 - changedNodeSize\n",
    "            return changedNodeSize\n",
    "        elif count[0] < rand - 1:\n",
    "            count[0] += 1\n",
    "            changedNodeSize = setFoundNode(node.getChild(1), set, rand, count)\n",
    "            if type(set) == Node:\n",
    "                node.nodeNum += set.nodeNum - changedNodeSize\n",
    "            else:\n",
    "                node.nodeNum += 1 - changedNodeSize\n",
    "        if count[0] == rand - 1:\n",
    "            count[0] += 1\n",
    "            child = node.getChild(2)\n",
    "            node.setChild(2,set)\n",
    "            if type(child) == Node:\n",
    "                changedNodeSize = child.nodeNum\n",
    "            else:\n",
    "                changedNodeSize = 1\n",
    "            if type(set) == Node:\n",
    "                node.nodeNum += set.nodeNum - changedNodeSize\n",
    "            else:\n",
    "                node.nodeNum += 1 - changedNodeSize\n",
    "            return changedNodeSize\n",
    "        elif count[0] < rand - 1:\n",
    "            count[0] += 1\n",
    "            changedNodeSize = setFoundNode(node.getChild(2), set, rand, count)\n",
    "            if type(set) == Node:\n",
    "                node.nodeNum += set.nodeNum - changedNodeSize\n",
    "            else:\n",
    "                node.nodeNum += 1 - changedNodeSize\n",
    "    else:\n",
    "        return 1\n",
    "    return changedNodeSize\n",
    "temp = Expr()\n",
    "temp2 = Expr()\n",
    "temp.node = copyNode(trees[0].node)\n",
    "temp2.node = copyNode(trees[2].node)\n",
    "\n",
    "# print(setFoundNode(temp.node, temp2.node, 2, [0]))\n",
    "# print(temp.printTree(temp.node))\n",
    "# print(temp.node.nodeNum)\n"
   ]
  },
  {
   "cell_type": "markdown",
   "metadata": {},
   "source": [
    "for Crossover use this function"
   ]
  },
  {
   "cell_type": "code",
   "execution_count": 369,
   "metadata": {},
   "outputs": [],
   "source": [
    "def reproduce(tree1: Expr, tree2:Expr):\n",
    "    random.seed()\n",
    "    newTree1 = Expr()\n",
    "    newTree2 = Expr()\n",
    "    newTree1.node = copyNode(tree1.node)\n",
    "    newTree2.node = copyNode(tree2.node)#TODO set data of Expr to new Expr\n",
    "    rand1 = random.randint(0, tree1.node.nodeNum - 1)\n",
    "    rand2 = random.randint(0, tree2.node.nodeNum - 1)\n",
    "    # print(f'reproduce: {rand1} {rand2}')\n",
    "    setFoundNode(newTree1.node,copyNode(findNode(newTree2.node,rand2,[0])),rand1, [0])\n",
    "    setFoundNode(newTree2.node,copyNode(findNode(newTree1.node,rand1,[0])),rand2, [0])\n",
    "    # return  (newTree1, newTree2)\n",
    "    return  newTree1"
   ]
  },
  {
   "cell_type": "markdown",
   "metadata": {},
   "source": [
    "Mutate"
   ]
  },
  {
   "cell_type": "code",
   "execution_count": 370,
   "metadata": {},
   "outputs": [],
   "source": [
    "def mutate(tree: Expr):\n",
    "    newTree = Expr()\n",
    "    newTree.node = copyNode(tree.node)\n",
    "    # print(tree.node.nodeNum)\n",
    "    rand = random.randint(0,tree.node.nodeNum + 1)\n",
    "    found = findNode(newTree.node, rand, [0])\n",
    "    if type(found) == Node:\n",
    "        chooseKind = random.randint(1,3)#1: op, 2: var, 3: num\n",
    "    else:\n",
    "        chooseKind = random.randint(2,3)#1: op, 2: var, 3: num\n",
    "    if chooseKind == 1:\n",
    "        found.data = allOp[random.randint(0,len(allOp) - 1)]\n",
    "        if found.data in oneChildOp:\n",
    "            if found._child == None:\n",
    "                found._child = found._right\n",
    "        elif found._right == None:\n",
    "            found._right = found._child\n",
    "            found._left = random.randint(randlimit[0],randlimit[1])\n",
    "    elif chooseKind == 2:\n",
    "        setFoundNode(newTree.node, variable[random.randint(0,len(variable) - 1)],rand,[0])\n",
    "    elif chooseKind == 3:\n",
    "        setFoundNode(newTree.node, random.randint(randlimit[0],randlimit[1]),rand,[0])\n",
    "    return newTree\n",
    "# print(trees[0].printTree(trees[0].node))\n",
    "# temp = mutex(trees[0])\n",
    "# print(temp.printTree(temp.node))"
   ]
  },
  {
   "cell_type": "code",
   "execution_count": 371,
   "metadata": {},
   "outputs": [],
   "source": [
    "def sorting(e):\n",
    "    return e.fitness\n",
    "\n",
    "trees.sort(reverse=False, key=sorting)\n",
    "# for tree in trees:\n",
    "#     print(tree.fitness)"
   ]
  },
  {
   "cell_type": "code",
   "execution_count": 372,
   "metadata": {},
   "outputs": [
    {
     "name": "stdout",
     "output_type": "stream",
     "text": [
      "467.2089471769688\n",
      "478.04458137628416\n",
      "497.53371270031073\n",
      "499.93679659685563\n",
      "501.37367354975515\n",
      "506.7378646293767\n",
      "522.5811360532695\n",
      "540.8142560063513\n",
      "602.364955800073\n",
      "3220.65\n"
     ]
    }
   ],
   "source": [
    "trees.sort(reverse = False , key = sorting)\n",
    "for i in trees: \n",
    "    print(i.fitness)"
   ]
  },
  {
   "cell_type": "markdown",
   "metadata": {},
   "source": [
    "Genetic Programming"
   ]
  },
  {
   "cell_type": "code",
   "execution_count": 374,
   "metadata": {},
   "outputs": [
    {
     "name": "stdout",
     "output_type": "stream",
     "text": [
      "best fintness: 0.6180554526917948 tree: cos(((cos(7) * 1) / x))\n"
     ]
    }
   ],
   "source": [
    "possibilty(trees)\n",
    "\n",
    "def genetic(trees):\n",
    "    for _ in range(10):#changeOrder\n",
    "        newTrees = []\n",
    "        # chooseLastTree = []\n",
    "        # chooseNewTree = []\n",
    "        trees.sort(reverse = False , key = sorting)\n",
    "        print(f'best fintness: {trees[0].fitness} tree: {trees[0].printTree(trees[0].node)}')\n",
    "        countOfOldTree = (int)(len(trees) * 0.2)\n",
    "        for i in range(countOfOldTree):\n",
    "            newTrees.append(trees[i])\n",
    "        for i in range(len(trees) - countOfOldTree):\n",
    "            random.seed()\n",
    "            x = randomSelection(trees)\n",
    "            y = randomSelection(trees)\n",
    "            # print(f'x: {x.printTree(x.node)} node size: {x.node.nodeNum}')\n",
    "            # print(f'y: {y.printTree(y.node)} node size: {y.node.nodeNum}')\n",
    "            child = reproduce(x,y)\n",
    "            # print(f'child: {child.printTree(child.node)} and node size: {child.node.nodeNum}')\n",
    "            rand = random.randint(1,10)#TODO mutex possibility how much\n",
    "            if rand == 5:\n",
    "                child = mutate(child)\n",
    "            newTrees.append(child)\n",
    "            fitness(child, newTrees)\n",
    "        #-- trees = newTrees\n",
    "        if possibilty(trees):\n",
    "            print('fitness 0 found')\n",
    "            break\n",
    "        # for tree in trees:\n",
    "        #     print(tree.printTree(tree.node), tree.fitness)\n",
    "        print('____________________________________')\n",
    "\n",
    "genetic(trees)\n",
    "    "
   ]
  }
 ],
 "metadata": {
  "kernelspec": {
   "display_name": "Python 3.9.13 ('base')",
   "language": "python",
   "name": "python3"
  },
  "language_info": {
   "codemirror_mode": {
    "name": "ipython",
    "version": 3
   },
   "file_extension": ".py",
   "mimetype": "text/x-python",
   "name": "python",
   "nbconvert_exporter": "python",
   "pygments_lexer": "ipython3",
   "version": "3.9.13"
  },
  "orig_nbformat": 4,
  "vscode": {
   "interpreter": {
    "hash": "a63e6f0e0f25cc04d6963e51efaea1e2196bd5a359aabb8d5158bc5d10354a0d"
   }
  }
 },
 "nbformat": 4,
 "nbformat_minor": 2
}

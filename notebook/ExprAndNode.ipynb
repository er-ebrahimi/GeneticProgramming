{
 "cells": [
  {
   "cell_type": "code",
   "execution_count": 438,
   "metadata": {},
   "outputs": [],
   "source": [
    "import random\n",
    "import math\n",
    "import os\n",
    "import sys\n",
    "# sys.path.insert(0, '/home/erfan/Documents/GitHub/GeneticProgramming/code')\n",
    "# import Expr as e"
   ]
  },
  {
   "cell_type": "code",
   "execution_count": 439,
   "metadata": {},
   "outputs": [],
   "source": [
    "oneChildOp = [\"sin\", \"cos\"]\n",
    "allOp = [\"+\", '-', '*', '/', 'sin', 'cos']\n",
    "randlimit = (1,10) #generating random num between (1,10)\n",
    "variable = ['x']"
   ]
  },
  {
   "cell_type": "markdown",
   "metadata": {},
   "source": [
    "Node Class"
   ]
  },
  {
   "cell_type": "code",
   "execution_count": 440,
   "metadata": {},
   "outputs": [],
   "source": [
    "class Node:\n",
    "    \"\"\"this class has two children\n",
    "    vars:\n",
    "        right: Node\n",
    "        left: Node\n",
    "        data: char or int\n",
    "    \"\"\"\n",
    "    def __init__(self):\n",
    "        self._right = None\n",
    "        self._left = None\n",
    "        self.data = allOp[random.randint(0, len(allOp) - 1)]\n",
    "        self._child = None\n",
    "    def printing(self):\n",
    "        print(self.data)\n",
    "    def getChild(self, which):\n",
    "        \"\"\"return the child\n",
    "\n",
    "        Args:\n",
    "            which (int): which can be 1 or 2 it is bigger than two it works like one\n",
    "\n",
    "        Returns:\n",
    "            Node: if input is one func is returned _right\n",
    "                    if it is two return _left\n",
    "                    if data can have one child then the return is _child\n",
    "        \"\"\"\n",
    "        if self.data in oneChildOp:\n",
    "            return self._child\n",
    "        elif which == 2:\n",
    "            return self._left\n",
    "        else:\n",
    "            return self._right\n",
    "    def setChild(self, which, input):\n",
    "        \"\"\"set to value to childs\n",
    "\n",
    "        Args:\n",
    "            which (int): which can be 1 or 2 it is bigger than two it works like one\n",
    "            input (Node or int or char): your Node or number or variable\n",
    "        \"\"\"\n",
    "        if self.data in oneChildOp:#TODO\n",
    "            self._child = input\n",
    "        elif which == 2:\n",
    "            self._left = input\n",
    "        else:\n",
    "            self._right = input"
   ]
  },
  {
   "cell_type": "code",
   "execution_count": 441,
   "metadata": {},
   "outputs": [],
   "source": [
    "def cal(var1, op, var2):\n",
    "    if op == '-':\n",
    "        return var1 - var2\n",
    "    if op == '*':\n",
    "        return var1 * var2\n",
    "    if op == '+':\n",
    "        return var1 + var2\n",
    "    if op == '/':\n",
    "        return var1 / var2"
   ]
  },
  {
   "cell_type": "markdown",
   "metadata": {},
   "source": [
    "Expr Class"
   ]
  },
  {
   "cell_type": "code",
   "execution_count": 442,
   "metadata": {},
   "outputs": [],
   "source": [
    "class Expr:\n",
    "    def __init__(self):\n",
    "        self.node = Node()\n",
    "        self.numCount = 0 #save how many number we should generate\n",
    "        self.opCount = 1\n",
    "        self.nodeCount = 0\n",
    "        self.fitness = 0\n",
    "        self.possibility = 0\n",
    "        self.num = 0\n",
    "    def calculator(self, x, head):#TODO if you wanna add more the one var you should change this function\n",
    "        \"\"\"calculate the answer of tree\n",
    "\n",
    "        Args:\n",
    "            x (int): your input to function\n",
    "            head (Node): your head\n",
    "\n",
    "        Returns:\n",
    "            int or None: answer of function (division by zero return None)\n",
    "        \"\"\"\n",
    "        try:    \n",
    "            if type(head) == int:\n",
    "                return head\n",
    "            elif head == None:\n",
    "                return None\n",
    "            elif head == 'x':\n",
    "                return x\n",
    "            elif head.data in allOp:\n",
    "                if head.data in oneChildOp:\n",
    "                    value = self.calculator(x, head.getChild(1))#TODO if you wanna add more oneChild operator you should change this condition\n",
    "\n",
    "                    if head.data == \"sin\":\n",
    "                        return math.sin(value)\n",
    "                    elif head.data == \"cos\":\n",
    "                        return math.cos(value)\n",
    "                else:\n",
    "                    value1 = self.calculator(x, head.getChild(1))\n",
    "                    value2 = self.calculator(x, head.getChild(2)) \n",
    "                    return cal(value1,head.data,value2)\n",
    "        except (ZeroDivisionError, TypeError, AttributeError):\n",
    "            return None\n",
    "\n",
    "    def printTree(self, node):\n",
    "        \"\"\"return expresion of tree\n",
    "\n",
    "        Args:\n",
    "            node (Node): head node \n",
    "\n",
    "        Returns:\n",
    "            Node : return expression of tree\n",
    "        \"\"\"\n",
    "        if type(node) != Node:\n",
    "            return node\n",
    "        elif node.data in oneChildOp:\n",
    "            return f'{node.data}({self.printTree(node.getChild(1))})'\n",
    "        elif node.data in allOp:\n",
    "            return f'({self.printTree(node.getChild(1))} {node.data} {self.printTree(node.getChild(2))})'\n",
    "        # while True:\n",
    "    def insertNum(self,headNode ,var):\n",
    "        \"\"\"It is for inserting Node \n",
    "            = [random.randint(1 , self.numCount - self.opCount )]\n",
    "        Args:\n",
    "            headNode (Node): root Node\n",
    "            tree (Expr): your tree\n",
    "            var (List): it just use firt value of list (just passby value) \n",
    "        \"\"\"\n",
    "        rand = 0\n",
    "        if rand == 0:\n",
    "            rand = random.randint(1,2)\n",
    "        if type(headNode.getChild(rand)) == Node:\n",
    "            self.insertNum(headNode.getChild(rand), var)\n",
    "        elif headNode.getChild(rand) == None and var[0] == 0:\n",
    "            headNode.setChild(rand,random.randint(randlimit[0],randlimit[1]))\n",
    "            self.numCount += 1\n",
    "            self.nodeCount += 1\n",
    "        elif headNode.getChild(rand) == None:\n",
    "            headNode.setChild(rand,variable[random.randint(0,len(variable) - 1)])\n",
    "            var[0] -= 1\n",
    "            self.numCount += 1\n",
    "            self.nodeCount += 1           \n",
    "        rand = 2 if rand == 1 else 1 \n",
    "        if type(headNode.getChild(rand)) == Node:\n",
    "            self.insertNum(headNode.getChild(rand), var)\n",
    "        elif headNode.getChild(rand) == None and var[0] == 0:\n",
    "            headNode.setChild(rand,random.randint(randlimit[0],randlimit[1]))\n",
    "            self.numCount += 1\n",
    "            self.nodeCount += 1\n",
    "        elif headNode.getChild(rand) == None:\n",
    "            headNode.setChild(rand,variable[random.randint(0,len(variable) - 1)])\n",
    "            var[0] -= 1\n",
    "            self.numCount += 1\n",
    "            self.nodeCount += 1"
   ]
  },
  {
   "cell_type": "code",
   "execution_count": 443,
   "metadata": {},
   "outputs": [],
   "source": [
    "def insertNode(headNode):\n",
    "    \"\"\"inserting new node\n",
    "\n",
    "    Args:\n",
    "        headNode (Node): the head of your tree (+,-,*,/)\n",
    "        inputNode (char): your operator you want to add\n",
    "    \"\"\"\n",
    "    inputNode = Node()\n",
    "    # flag = False\n",
    "    ran = random.randint(1, 2)\n",
    "\n",
    "    if headNode.getChild(ran) == None:\n",
    "        headNode.setChild(ran, inputNode)\n",
    "    elif type(headNode.getChild(ran)) == Node:\n",
    "        insertNode(headNode.getChild(ran))"
   ]
  },
  {
   "cell_type": "code",
   "execution_count": 444,
   "metadata": {},
   "outputs": [],
   "source": [
    "def generateTree(count, tree):\n",
    "    \"\"\"Generate new cromosome\n",
    "\n",
    "    Args:\n",
    "        count (int): tree will have count+1 operator\n",
    "        tree (Expr): your tree\n",
    "    \"\"\"\n",
    "    tree.opCount = count + 1\n",
    "    tree.nodeCount += count + 1\n",
    "    for i in range(count):\n",
    "        inputNode = Node()\n",
    "        insertNode(tree.node)\n",
    "    tree.insertNum(tree.node, [1])#TODO it always in right"
   ]
  },
  {
   "cell_type": "code",
   "execution_count": 445,
   "metadata": {},
   "outputs": [],
   "source": [
    "instancesNum = 10 #How maney instance you want to test function with it\n",
    "inputs = []\n",
    "answers = []\n",
    "#e.randlimitd"
   ]
  },
  {
   "cell_type": "markdown",
   "metadata": {},
   "source": [
    "Black Box"
   ]
  },
  {
   "cell_type": "code",
   "execution_count": 446,
   "metadata": {},
   "outputs": [
    {
     "name": "stdout",
     "output_type": "stream",
     "text": [
      "70\n",
      "inputs: [1, 7, 9, 5, 3, 10, 4, 4, 4, 9]\n",
      "answers: [7, 349, 735, 131, 33, 1006, 70, 70, 70, 735]\n"
     ]
    }
   ],
   "source": [
    "def blackBox(inp):\n",
    "    return inp ** 3 + 2 + 4\n",
    "print(blackBox(4))\n",
    "for i in range(instancesNum):\n",
    "    rand = (random.randint(randlimit[0],randlimit[1]))\n",
    "    inputs.append(rand)\n",
    "    answers.append(blackBox(rand))\n",
    "print(f'inputs: {inputs}')\n",
    "print(f'answers: {answers}')\n",
    "    "
   ]
  },
  {
   "cell_type": "markdown",
   "metadata": {},
   "source": [
    "Generate tree"
   ]
  },
  {
   "cell_type": "code",
   "execution_count": 447,
   "metadata": {},
   "outputs": [],
   "source": [
    "treeNum = 5\n",
    "trees = [] \n",
    "for i in range(treeNum):\n",
    "    trees.append(Expr())\n",
    "    rand = random.randint(1, 3)\n",
    "    generateTree(rand, trees[i])#tree'll have hight of between one to 11\n"
   ]
  },
  {
   "cell_type": "markdown",
   "metadata": {},
   "source": [
    "Print tree"
   ]
  },
  {
   "cell_type": "code",
   "execution_count": 448,
   "metadata": {},
   "outputs": [
    {
     "name": "stdout",
     "output_type": "stream",
     "text": [
      "((10 + 2) - x)\n",
      "(x * (6 + 1))\n",
      "cos((4 * x))\n",
      "(7 * (x + sin(cos(4))))\n",
      "(cos((6 - 7)) - (x * 9))\n",
      "5 2 3\n",
      "5 2 3\n",
      "4 2 2\n",
      "7 4 3\n",
      "8 4 4\n"
     ]
    }
   ],
   "source": [
    "for i in range(treeNum):\n",
    "    print(trees[i].printTree(trees[i].node))\n",
    "\n",
    "for i in range(treeNum):\n",
    "    print(trees[i].nodeCount, trees[i].opCount, trees[i].numCount)\n"
   ]
  },
  {
   "cell_type": "code",
   "execution_count": 449,
   "metadata": {},
   "outputs": [
    {
     "name": "stdout",
     "output_type": "stream",
     "text": [
      "0.960170286650366\n"
     ]
    }
   ],
   "source": [
    "print(math.cos(-6))"
   ]
  },
  {
   "cell_type": "code",
   "execution_count": 450,
   "metadata": {},
   "outputs": [
    {
     "name": "stdout",
     "output_type": "stream",
     "text": [
      "12\n",
      "0\n",
      "1.0\n",
      "-4.256581067485359\n",
      "0.5403023058681398\n"
     ]
    }
   ],
   "source": [
    "\n",
    "for i in range(treeNum):\n",
    "    print(trees[i].calculator(0, trees[i].node))\n"
   ]
  },
  {
   "cell_type": "markdown",
   "metadata": {},
   "source": [
    "Fitness"
   ]
  },
  {
   "cell_type": "code",
   "execution_count": 451,
   "metadata": {},
   "outputs": [
    {
     "name": "stdout",
     "output_type": "stream",
     "text": [
      "222550.0\n",
      "188391.6\n",
      "224993.0209024533\n",
      "190805.32230716484\n",
      "276720.5876156276\n"
     ]
    }
   ],
   "source": [
    "for j in trees:\n",
    "    fit = 0\n",
    "    count = 0\n",
    "    for i in range(len(inputs)):\n",
    "        funcAns = (j.calculator(inputs[i], j.node))\n",
    "        if funcAns != None:\n",
    "            fit += ((funcAns - answers[i]) ** 2)\n",
    "            count += 1\n",
    "        else:\n",
    "            if funcAns == answers[i]:\n",
    "                count += 1\n",
    "    if count != 0:\n",
    "        j.fitness = fit/count\n",
    "        print(j.fitness)\n",
    "    else:\n",
    "        trees.remove(j)\n",
    "        treeNum -= 1"
   ]
  },
  {
   "cell_type": "markdown",
   "metadata": {},
   "source": [
    "Possibility"
   ]
  },
  {
   "cell_type": "code",
   "execution_count": 452,
   "metadata": {},
   "outputs": [],
   "source": [
    "def possibilty(trees: list[Expr]): \n",
    "    \"\"\"Calculate possibility of choosing one tree\n",
    "\n",
    "    Args:\n",
    "        tree (Expr): your tree which you want calculate\n",
    "        inputs (List int): input to func\n",
    "    \"\"\"\n",
    "    num = 0\n",
    "    sumTree = 0\n",
    "    for i in trees:\n",
    "        sumTree += i.fitness\n",
    "    sumTreeOp = 0\n",
    "    for i in trees:\n",
    "        sumTreeOp += sumTree - i.fitness\n",
    "        i.fitness = sumTree - i.fitness\n",
    "    for i in trees:\n",
    "        i.possibility = round(i.fitness * 100/ sumTreeOp)\n",
    "        num += i.possibility\n",
    "        i.num = num\n",
    "    i.possibility = 100 - trees[treeNum - 2].num    \n",
    "    trees[treeNum - 1].num = 100 \n"
   ]
  },
  {
   "cell_type": "code",
   "execution_count": 453,
   "metadata": {},
   "outputs": [
    {
     "name": "stdout",
     "output_type": "stream",
     "text": [
      "20 , 20\n",
      "41 , 21\n",
      "61 , 20\n",
      "82 , 21\n",
      "100 , 18\n"
     ]
    }
   ],
   "source": [
    "\n",
    "possibilty(trees)\n",
    "for i in trees:\n",
    "    print(f'{i.num} , {i.possibility}')"
   ]
  },
  {
   "cell_type": "markdown",
   "metadata": {},
   "source": [
    "Random Selection"
   ]
  },
  {
   "cell_type": "code",
   "execution_count": 454,
   "metadata": {},
   "outputs": [
    {
     "data": {
      "text/plain": [
       "'cos((4 * x))'"
      ]
     },
     "execution_count": 454,
     "metadata": {},
     "output_type": "execute_result"
    }
   ],
   "source": [
    "def randomSelection(trees: list[Expr]):\n",
    "    rand = random.randint(1,100)\n",
    "    for i in range(len(trees)):\n",
    "        if i == 0 and trees[i].num >= rand:\n",
    "            return trees[i]\n",
    "        elif trees[i-1].num < rand and rand <= trees[i].num:\n",
    "            return trees[i]\n",
    "\n",
    "tr = randomSelection(trees)\n",
    "tr.printTree(tr.node)"
   ]
  },
  {
   "cell_type": "markdown",
   "metadata": {},
   "source": [
    "copy Node"
   ]
  },
  {
   "cell_type": "code",
   "execution_count": 455,
   "metadata": {},
   "outputs": [],
   "source": [
    "def copyNode(node):\n",
    "    newNode = Node()\n",
    "    if type(node) != Node:\n",
    "        return node\n",
    "    elif node.data in oneChildOp:\n",
    "        newNode._child = copyNode(node.getChild(1))\n",
    "        newNode.data = node.data\n",
    "        return newNode\n",
    "    elif node.data in allOp:\n",
    "        newNode._right = copyNode(node.getChild(1))\n",
    "        newNode._left = copyNode(node.getChild(2))\n",
    "        newNode.data = node.data\n",
    "        return newNode"
   ]
  },
  {
   "cell_type": "markdown",
   "metadata": {},
   "source": [
    "Crossover"
   ]
  },
  {
   "cell_type": "code",
   "execution_count": 460,
   "metadata": {},
   "outputs": [],
   "source": [
    "\n",
    "def findNode(node, rand: int, count = [0]):\n",
    "    \"\"\"finding a node and returning that \n",
    "\n",
    "    Args:\n",
    "        node (Node): head node of tree\n",
    "        rand (int): this arg should between 2 and size of tree\n",
    "        count (list, optional): initialize it with [0].Defualt doesn't work properly\n",
    "\n",
    "    Returns:\n",
    "        Node: your node\n",
    "    \"\"\"\n",
    "    if type(node) == Node:\n",
    "        if count[0] == rand:\n",
    "            return node\n",
    "        if node.data in oneChildOp:\n",
    "            count[0]+=1\n",
    "            temp = findNode(node.getChild(1), rand, count)\n",
    "            if count[0] == rand:\n",
    "                return temp\n",
    "        else:\n",
    "            count[0] +=1\n",
    "            temp = findNode(node.getChild(1), rand , count)\n",
    "            if count[0] == rand:\n",
    "                return temp\n",
    "            count[0] += 1\n",
    "            temp = findNode(node.getChild(2), rand , count)\n",
    "            if count[0] == rand:\n",
    "                return temp\n",
    "    else:\n",
    "        if count[0] == rand:\n",
    "            return node\n"
   ]
  },
  {
   "cell_type": "code",
   "execution_count": 457,
   "metadata": {},
   "outputs": [],
   "source": [
    "def setFoundNode(node: Node,set: Node, rand:int, count = [0]):\n",
    "    if type(node) == Node:\n",
    "        if count[0] == rand - 1:\n",
    "            count[0] += 1\n",
    "            node.setChild(1,set)\n",
    "            return\n",
    "        else:\n",
    "            count[0] += 1\n",
    "            setFoundNode(node.getChild(1), set, rand, count)\n",
    "        if count[0] == rand - 1:\n",
    "            count[0] += 1\n",
    "            node.setChild(2,set)\n",
    "            return\n",
    "        else:\n",
    "            count[0] += 1\n",
    "            setFoundNode(node.getChild(2), set, rand, count)      "
   ]
  },
  {
   "cell_type": "markdown",
   "metadata": {},
   "source": [
    "for Crossover use this function"
   ]
  },
  {
   "cell_type": "code",
   "execution_count": 459,
   "metadata": {},
   "outputs": [],
   "source": [
    "def reproduce(tree1: Expr, tree2:Expr):\n",
    "    newTree1 = Expr()\n",
    "    newTree2 = Expr()\n",
    "    newTree1.node = copyNode(tree1.node)\n",
    "    newTree2.node = copyNode(tree2.node)#TODO set data of Expr to new Expr\n",
    "    rand1 = random.randint(1, tree1.nodeCount)\n",
    "    rand2 = random.randint(1, tree2.nodeCount)\n",
    "    setFoundNode(newTree1.node,copyNode(findNode(newTree2.node,rand2,[0])),rand1, [0])\n",
    "    setFoundNode(newTree2.node,copyNode(findNode(newTree1.node,rand1,[0])),rand2, [0])\n",
    "    return  (newTree1, newTree2)"
   ]
  },
  {
   "cell_type": "markdown",
   "metadata": {},
   "source": [
    "Mutex"
   ]
  }
 ],
 "metadata": {
  "kernelspec": {
   "display_name": "Python 3.9.13 ('base')",
   "language": "python",
   "name": "python3"
  },
  "language_info": {
   "codemirror_mode": {
    "name": "ipython",
    "version": 3
   },
   "file_extension": ".py",
   "mimetype": "text/x-python",
   "name": "python",
   "nbconvert_exporter": "python",
   "pygments_lexer": "ipython3",
   "version": "3.9.13"
  },
  "orig_nbformat": 4,
  "vscode": {
   "interpreter": {
    "hash": "a63e6f0e0f25cc04d6963e51efaea1e2196bd5a359aabb8d5158bc5d10354a0d"
   }
  }
 },
 "nbformat": 4,
 "nbformat_minor": 2
}
